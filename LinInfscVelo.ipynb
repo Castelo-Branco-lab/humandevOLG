{
 "cells": [
  {
   "cell_type": "code",
   "execution_count": null,
   "id": "6eaa3079",
   "metadata": {},
   "outputs": [],
   "source": [
    "#from IPython.core.display import display, HTML\n",
    "#display(HTML(\"<style>.container { width:90% !important; }</style>\"))\n",
    "#%matplotlib inline\n",
    "import scvelo as scv\n",
    "scv.logging.print_version()\n",
    "import scanpy as scanpy\n",
    "import anndata as anndata\n",
    "import pandas as pd\n",
    "import numpy as np\n",
    "import cellrank as cr\n",
    "import scipy.io as scipy\n",
    "import matplotlib as mpl\n",
    "import matplotlib.pyplot as plt\n",
    "from scipy import sparse\n",
    "scv.settings.verbosity = 3\n",
    "scv.settings.set_figure_params('scvelo')\n",
    "cr.settings.verbosity = 4\n",
    "import os\n",
    "os.getcwd()\n",
    "cr.logging.print_versions()"
   ]
  },
  {
   "cell_type": "code",
   "execution_count": null,
   "id": "2329be3d",
   "metadata": {},
   "outputs": [],
   "source": [
    "#adata = scv.read(\"/data/proj/GCB_DvB/humanPublication/Kriegsteindata/alltogether_cortex_final.loom\", cache=True)"
   ]
  },
  {
   "cell_type": "code",
   "execution_count": null,
   "id": "62c66485",
   "metadata": {},
   "outputs": [],
   "source": [
    "#genenames = adata.var\n",
    "#genenames.to_csv('/data/proj/GCB_DvB/humanPublication/Kriegsteindata/geneanno.csv')\n",
    "#metadata = adata.obs\n",
    "#metadata.to_csv('/data/proj/GCB_DvB/humanPublication/Kriegsteindata/metadata.csv')\n",
    "#spliced = adata.layers['spliced']\n",
    "#spliced = spliced.astype(np.int16)\n",
    "#scipy.mmwrite('/data/proj/GCB_DvB/humanPublication/Kriegsteindata/spliced.mtx', spliced)\n",
    "#unspliced = adata.layers['unspliced']\n",
    "#unspliced = unspliced.astype(np.int16)\n",
    "#scipy.mmwrite('/data/proj/GCB_DvB/humanPublication/Kriegsteindata/unspliced.mtx', unspliced)"
   ]
  },
  {
   "cell_type": "code",
   "execution_count": null,
   "id": "e595c89f",
   "metadata": {},
   "outputs": [],
   "source": [
    "#adata.layers['spliced']"
   ]
  },
  {
   "cell_type": "code",
   "execution_count": null,
   "id": "abd08d93",
   "metadata": {},
   "outputs": [],
   "source": [
    "#spliced"
   ]
  },
  {
   "cell_type": "code",
   "execution_count": null,
   "id": "416f0593",
   "metadata": {},
   "outputs": [],
   "source": [
    "s = scv.read(\"/data/proj/GCB_DvB/humanPublication/pubsplicedFtrunc.csv\").T\n",
    "u = scv.read(\"/data/proj/GCB_DvB/humanPublication/pubunsplicedFtrunc.csv\").T\n",
    "adata = s\n",
    "adata.layers['spliced'] = s.X\n",
    "adata.layers['unspliced'] = u.X"
   ]
  },
  {
   "cell_type": "code",
   "execution_count": null,
   "id": "34441c21",
   "metadata": {},
   "outputs": [],
   "source": [
    "m = pd.read_csv(\"/data/proj/GCB_DvB/humanPublication/pubanno.csv\")\n",
    "m[[\"seurat_clusters2\"]] = m[[\"seurat_clusters2\"]].astype(str) \n",
    "adata.obs['clusters'] = m['seurat_clusters2']\n",
    "adata.obs['Sample'] = m['Sample']\n",
    "adata.obs['version'] = m['version']\n",
    "umap_anno = pd.read_csv(\"/data/proj/GCB_DvB/humanPublication/umapscVelo.csv\")\n",
    "adata.obsm['X_umap'] = np.asanyarray(umap_anno)"
   ]
  },
  {
   "cell_type": "code",
   "execution_count": null,
   "id": "e894a965",
   "metadata": {},
   "outputs": [],
   "source": [
    "Xcorrect = scv.read(\"/data/proj/GCB_DvB/humanPublication/pubsplicedcorrected.csv\").T\n",
    "adata.X = Xcorrect.X"
   ]
  },
  {
   "cell_type": "code",
   "execution_count": null,
   "id": "8c775940",
   "metadata": {},
   "outputs": [],
   "source": [
    "# show proportions of spliced/unspliced abundances\n",
    "scv.utils.show_proportions(adata)\n",
    "adata.shape"
   ]
  },
  {
   "cell_type": "code",
   "execution_count": null,
   "id": "b001909f",
   "metadata": {},
   "outputs": [],
   "source": [
    "#scv.pp.filter_genes(adata, min_shared_counts=2)\n",
    "#scv.pp.remove_duplicate_cells\n",
    "#scv.pp.normalize_per_cell(adata, enforce=True)\n",
    "#scv.pp.filter_genes_dispersion(adata, n_top_genes=10000)\n",
    "#scv.pp.log1p(adata)\n",
    "#scv.pp.neighbors(adata)\n",
    "scv.pp.moments(adata, n_pcs=50)#, n_neighbors=5)"
   ]
  },
  {
   "cell_type": "code",
   "execution_count": null,
   "id": "411b5cb3",
   "metadata": {},
   "outputs": [],
   "source": [
    "#Check if umap coordinates and clusters are correctly inferred\n",
    "scv.pl.scatter(adata, basis='umap',size=50,linewidth=0.2,dpi=200)"
   ]
  },
  {
   "cell_type": "code",
   "execution_count": null,
   "id": "574e56ea",
   "metadata": {},
   "outputs": [],
   "source": [
    "#Recover dynamics and save\n",
    "scv.tl.recover_dynamics(adata,n_jobs=20)\n",
    "adata.write('/data/proj/GCB_DvB/humanPublication/SCvelolineage.h5ad', compression='gzip')"
   ]
  },
  {
   "cell_type": "code",
   "execution_count": null,
   "id": "fdf25c83",
   "metadata": {},
   "outputs": [],
   "source": [
    "scv.tl.velocity(adata, mode='dynamical')\n",
    "scv.tl.velocity_graph(adata)"
   ]
  },
  {
   "cell_type": "code",
   "execution_count": null,
   "id": "8adbd2c4",
   "metadata": {},
   "outputs": [],
   "source": [
    "scv.pl.velocity_embedding_stream(adata, basis='umap',size=50,linewidth=1,dpi=200,density=2)"
   ]
  },
  {
   "cell_type": "code",
   "execution_count": null,
   "id": "13771021",
   "metadata": {},
   "outputs": [],
   "source": [
    "#scv.pl.velocity_embedding_grid(adata,basis='umap', arrow_length=4, arrow_size=1, dpi=200,density=2,linewidth=0.1)\n",
    "scv.pl.velocity_embedding_grid(adata,basis='umap', arrow_length=4, arrow_size=1, dpi=200,density=1,linewidth=0.2,alpha=0.5)"
   ]
  },
  {
   "cell_type": "code",
   "execution_count": null,
   "id": "29611c83",
   "metadata": {},
   "outputs": [],
   "source": [
    "scv.tl.latent_time(adata)\n",
    "scv.pl.scatter(adata, color='latent_time', color_map='gnuplot', size=80)"
   ]
  },
  {
   "cell_type": "code",
   "execution_count": null,
   "id": "3d0cc5cd",
   "metadata": {},
   "outputs": [],
   "source": [
    "scv.pl.scatter(adata,color=[\"root_cells\", \"end_points\" ])"
   ]
  },
  {
   "cell_type": "code",
   "execution_count": null,
   "id": "fcff1bfa",
   "metadata": {},
   "outputs": [],
   "source": [
    "lt = adata.obs[\"latent_time\"]\n",
    "lt.to_csv('/data/proj/GCB_DvB/humanPublication/scVELOLT_FSCCA30NNvelo.csv')\n",
    "transmat = scv.utils.get_transition_matrix(adata)\n",
    "scipy.mmwrite('/data/proj/GCB_DvB/humanPublication/scVELOtransmatFSCCA30NNvelo.mtx', transmat)"
   ]
  },
  {
   "cell_type": "code",
   "execution_count": null,
   "id": "0c75e676",
   "metadata": {},
   "outputs": [],
   "source": [
    "scv.pl.velocity_embedding_grid(adata, color=['TOP2A','PTCH1','EGFR','SPARCL1','GFAP','CSPG4','PDGFRA','ASCL1','GAD1','LHX1']\n",
    "                               ,basis='umap', arrow_length=2, arrow_size=4, dpi=200,density=0.35,ncols=4,size=1500,\n",
    "                              linewidth=1.5,fontsize = 40,alpha=0.8)"
   ]
  },
  {
   "cell_type": "code",
   "execution_count": null,
   "id": "a8e0666d",
   "metadata": {},
   "outputs": [],
   "source": [
    "scv.pl.velocity_embedding_grid(adata, color=['CSPG4','PDGFRA','APOD','BAMBI','PTCH1','CNTN1','JAG1','NOTCH1','NOTCH4','DLL3','DLL1','ZEB1','EGFR',\n",
    "                                             'MFNG','NHLH1','SHOX2','TFDP2','SOX4','SOX11','TP53','PROX1',\n",
    "                                             'CDKN1C','TOP2A','DCX','NFIX','NEUROG1','NEUROG2','HES6']\n",
    "                               ,basis='umap', arrow_length=2, arrow_size=4, dpi=200,density=0.35,ncols=4,size=1500,\n",
    "                              linewidth=1.5,fontsize = 40,alpha=0.8)"
   ]
  },
  {
   "cell_type": "code",
   "execution_count": null,
   "id": "51999198",
   "metadata": {},
   "outputs": [],
   "source": [
    "scv.pl.velocity_embedding_grid(adata, color=['CSPG4','PDGFRA','PTCH1','MFNG',\n",
    "                                             'CNTN1','JAG1','NOTCH1','NOTCH4',\n",
    "                                             'ASCL1','ETV1','SOX4','SOX11',\n",
    "                                             'TFDP2','SHOX2','SPARCL1','GFAP']\n",
    "                               ,basis='umap', arrow_length=2, arrow_size=4, dpi=200,density=0.35,ncols=4,size=1500,\n",
    "                              linewidth=1.5,fontsize = 40,alpha=0.8)"
   ]
  },
  {
   "cell_type": "code",
   "execution_count": null,
   "id": "6b30a6bd",
   "metadata": {},
   "outputs": [],
   "source": [
    "scv.pl.velocity_embedding_grid(adata, color=['DLL3','DLL1','ZEB1','EGFR']\n",
    "                               ,basis='umap', arrow_length=2, arrow_size=4, dpi=200,density=0.35,ncols=4,size=1500,\n",
    "                              linewidth=1.5,fontsize = 40,alpha=0.8)"
   ]
  },
  {
   "cell_type": "code",
   "execution_count": null,
   "id": "6b5c4688",
   "metadata": {},
   "outputs": [],
   "source": [
    "scv.pl.velocity_embedding_grid(adata, color=['GSX1','GSX2','DLX2','ASCL1','SP9','ISL1','OLIG2','OLIG1','DLL3','EGFR','SOX10','MKI67']\n",
    "                               ,basis='umap', arrow_length=2, arrow_size=4, dpi=200,density=0.35,ncols=4,size=1500,\n",
    "                              linewidth=1.5,fontsize = 40,alpha=0.8)"
   ]
  },
  {
   "cell_type": "code",
   "execution_count": null,
   "id": "f602e134",
   "metadata": {},
   "outputs": [],
   "source": [
    "scv.pl.velocity_embedding_grid(adata, color=['DLX2','OLIG2']\n",
    "                               ,basis='umap', arrow_length=2, arrow_size=2, dpi=200,density=0.8,ncols=4,size=1500,\n",
    "                              linewidth=0.5,fontsize = 40,alpha=0.8)"
   ]
  },
  {
   "cell_type": "code",
   "execution_count": null,
   "id": "7de28983",
   "metadata": {},
   "outputs": [],
   "source": []
  }
 ],
 "metadata": {
  "kernelspec": {
   "display_name": "Python (myNN)",
   "language": "python",
   "name": "mynn"
  },
  "language_info": {
   "codemirror_mode": {
    "name": "ipython",
    "version": 3
   },
   "file_extension": ".py",
   "mimetype": "text/x-python",
   "name": "python",
   "nbconvert_exporter": "python",
   "pygments_lexer": "ipython3",
   "version": "3.7.8"
  }
 },
 "nbformat": 4,
 "nbformat_minor": 5
}
